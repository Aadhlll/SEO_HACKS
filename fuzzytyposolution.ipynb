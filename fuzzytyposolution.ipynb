{
  "nbformat": 4,
  "nbformat_minor": 0,
  "metadata": {
    "colab": {
      "provenance": []
    },
    "kernelspec": {
      "name": "python3",
      "display_name": "Python 3"
    },
    "language_info": {
      "name": "python"
    }
  },
  "cells": [
    {
      "cell_type": "code",
      "execution_count": null,
      "metadata": {
        "colab": {
          "base_uri": "https://localhost:8080/"
        },
        "id": "fl4WJ2HCSIq1",
        "outputId": "1f37436f-3930-4c42-fef1-cb240ba16972"
      },
      "outputs": [
        {
          "output_type": "stream",
          "name": "stdout",
          "text": [
            "Requirement already satisfied: fuzzywuzzy in /usr/local/lib/python3.10/dist-packages (0.18.0)\n"
          ]
        }
      ],
      "source": [
        "!pip install fuzzywuzzy\n",
        "from fuzzywuzzy import fuzz,process"
      ]
    },
    {
      "cell_type": "code",
      "source": [
        "from fuzzywuzzy import fuzz,process\n",
        "\n",
        "# Define a list of correct keywords or intents\n",
        "correct_keywords = ['Hotels in Vattanappally', 'Resorts in Vattanappally', 'Accommodations in Vattanappally','Stays in Vattanappally','Rooms in Vattanappally']\n",
        "\n",
        "# Example user input with a typo\n",
        "user_input = input(\"Enter the user search input: \")\n",
        "\n",
        "# Function to find the best match using fuzzy matching\n",
        "def find_best_match(user_input, options):\n",
        "    return process.extractOne(user_input, options)\n",
        "\n",
        "# Find the best match from the list of correct keywords\n",
        "best_match = find_best_match(user_input, correct_keywords)\n",
        "score=fuzz.token_set_ratio(user_input, correct_keywords)\n",
        "print(score)\n",
        "\n",
        "\n",
        "#You can set a threshold for the matching score\n",
        "if score >= 50:  # Adjust the threshold as needed\n",
        "    print(f\"User input: {user_input} => Corrected keyword: {best_match}\")\n",
        "else:\n",
        "    print(f\"User input: {user_input} not found or no close match.\")\n",
        "\n"
      ],
      "metadata": {
        "colab": {
          "base_uri": "https://localhost:8080/"
        },
        "id": "sylqR-8SUaTx",
        "outputId": "69885fa5-2a69-4db3-aace-4675206bd018"
      },
      "execution_count": null,
      "outputs": [
        {
          "output_type": "stream",
          "name": "stdout",
          "text": [
            "Enter the user search input: stay in vattanappally\n",
            "86\n",
            "User input: stay in vattanappally => Corrected keyword: ('Stays in Vattanappally', 98)\n"
          ]
        }
      ]
    }
  ]
}