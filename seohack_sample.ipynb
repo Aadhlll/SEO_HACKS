{
  "nbformat": 4,
  "nbformat_minor": 0,
  "metadata": {
    "colab": {
      "provenance": []
    },
    "kernelspec": {
      "name": "python3",
      "display_name": "Python 3"
    },
    "language_info": {
      "name": "python"
    }
  },
  "cells": [
    {
      "cell_type": "code",
      "execution_count": null,
      "metadata": {
        "colab": {
          "base_uri": "https://localhost:8080/"
        },
        "id": "mU-Uh36L7W3m",
        "outputId": "63a3340f-4c55-43ce-e153-25456bb394a9"
      },
      "outputs": [
        {
          "output_type": "stream",
          "name": "stdout",
          "text": [
            "User search: HOTELS IN VATTANAPALLY => Corrected keyword: Hotels in Vattanappally\n"
          ]
        }
      ],
      "source": [
        "# Define a dictionary to map spelling mistakes to corrected keywords\n",
        "search_mapping = {\n",
        "    'HOTELS IN VATANAPALLY': 'Hotels in Vattanappally',\n",
        "    'HOTELS IN VATTANAPALLY': 'Hotels in Vattanappally',\n",
        "    'HOTEL IN VATANAPALLY': 'Hotels in Vattanappally',\n",
        "    'HOTELS IN VATANAPPALLY': 'Hotels in Vattanappally',\n",
        "    'HOTELS IN VATANAPALY': 'Hotels in Vattanappally',\n",
        "    'HOTELS IN VATTANAPALI': 'Hotels in Vattanappally',\n",
        "    'HOTEL IN VATANAPALI': 'Hotels in Vattanappally',\n",
        "    'HOTELS IN VATANAPALI': 'Hotels in Vattanappally',\n",
        "    'HOTELS IN VATANAPALI': 'Hotels in Vattanappally',\n",
        "    'RESORTS IN VATANAPALI': 'Hotels in Vattanappally',\n",
        "    'RESORTS IN VATANAPALLY': 'Hotels in Vattanappally',\n",
        "    'RESORT IN VATTANAPALLY': 'Hotels in Vattanappally',\n",
        "    'RESORTS IN VATANAPALLY': 'Hotels in Vattanappally',\n",
        "    'RESORTS IN VATANAPPALLY': 'Hotels in Vattanappally',\n",
        "    'RESORTS IN VATANAPALY': 'Hotels in Vattanappally',\n",
        "    'RESORT IN VATTANAPALI': 'Hotels in Vattanappally',\n",
        "    'RESORTS IN VATANAPALI': 'Hotels in Vattanappally',\n",
        "    'RESORTS IN VATANAPALI': 'Hotels in Vattanappally',\n",
        "    'HOTELS IN VATANAPALI': 'Hotels in Vattanappally',\n",
        "    'HOTEL IN VATANAPALY': 'Hotels in Vattanappally',\n",
        "    'ACCOMMODATION IN VATANAPALLY': 'Hotels in Vattanappally',\n",
        "    'STAY IN VATANAPALLY': 'Hotels in Vattanappally',\n",
        "    'LODGING IN VATANAPALLY': 'Hotels in Vattanappally',\n",
        "    'GUEST HOUSES IN VATTANAPALLY': 'Hotels in Vattanappally',\n",
        "    'MOTELS IN VATANAPALLY': 'Hotels in Vattanappally',\n",
        "    'HOLIDAY RESORTS IN VATTANAPALLY': 'Hotels in Vattanappally'\n",
        "}\n",
        "\n",
        "# Example usage:\n",
        "user_search = 'HOTELS IN VATTANAPALLY'\n",
        "if user_search in search_mapping:\n",
        "    corrected_keyword = search_mapping[user_search]\n",
        "    print(f\"User search: {user_search} => Corrected keyword: {corrected_keyword}\")\n",
        "else:\n",
        "    print(f\"User search: {user_search} not found in the mapping.\")\n",
        "\n"
      ]
    }
  ]
}